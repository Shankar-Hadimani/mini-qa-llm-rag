{
 "cells": [
  {
   "cell_type": "code",
   "execution_count": 1,
   "id": "526e7039-43f2-4762-8797-fd565522a5f5",
   "metadata": {},
   "outputs": [
    {
     "data": {
      "application/vnd.jupyter.widget-view+json": {
       "model_id": "9eef05d1e4f34e02b03c2a16460123be",
       "version_major": 2,
       "version_minor": 0
      },
      "text/plain": [
       "VBox(children=(HTML(value='<center> <img\\nsrc=https://huggingface.co/front/assets/huggingface_logo-noborder.sv…"
      ]
     },
     "metadata": {},
     "output_type": "display_data"
    }
   ],
   "source": [
    "from huggingface_hub import notebook_login\n",
    "notebook_login()"
   ]
  },
  {
   "cell_type": "code",
   "execution_count": 2,
   "id": "b039d832-26c2-46ac-859e-35be8c28eef2",
   "metadata": {},
   "outputs": [],
   "source": [
    "import json\n",
    "import pandas as pd\n",
    "from tqdm.auto import tqdm\n",
    "from sentence_transformers import SentenceTransformer\n",
    "from elasticsearch import Elasticsearch"
   ]
  },
  {
   "cell_type": "code",
   "execution_count": 3,
   "id": "bbbb9919-87fb-48f3-aa22-7aba6567b19e",
   "metadata": {},
   "outputs": [],
   "source": [
    "with open('documents-with-ids.json', 'rt') as f_in:\n",
    "    documents = json.load(f_in)"
   ]
  },
  {
   "cell_type": "code",
   "execution_count": 4,
   "id": "43677a9c-6539-4812-8183-813214a0bea7",
   "metadata": {},
   "outputs": [
    {
     "name": "stderr",
     "output_type": "stream",
     "text": [
      "/anaconda/envs/llm/lib/python3.11/site-packages/transformers/tokenization_utils_base.py:1601: FutureWarning: `clean_up_tokenization_spaces` was not set. It will be set to `True` by default. This behavior will be depracted in transformers v4.45, and will be then set to `False` by default. For more details check this issue: https://github.com/huggingface/transformers/issues/31884\n",
      "  warnings.warn(\n"
     ]
    }
   ],
   "source": [
    "model_name = 'multi-qa-MiniLM-L6-cos-v1'\n",
    "model = SentenceTransformer(model_name)"
   ]
  },
  {
   "cell_type": "code",
   "execution_count": 5,
   "id": "e96b0de0-0cb4-435f-8cf6-b0e07641ff51",
   "metadata": {},
   "outputs": [
    {
     "data": {
      "application/vnd.jupyter.widget-view+json": {
       "model_id": "0227c98ac93d4f7ca0856d609251dfb4",
       "version_major": 2,
       "version_minor": 0
      },
      "text/plain": [
       "  0%|          | 0/948 [00:00<?, ?it/s]"
      ]
     },
     "metadata": {},
     "output_type": "display_data"
    }
   ],
   "source": [
    "for doc in tqdm(documents):\n",
    "    question = doc['question']\n",
    "    text = doc['text']\n",
    "    qt = question + ' ' + text\n",
    "\n",
    "    doc['question_vector'] = model.encode(question)\n",
    "    doc['text_vector'] = model.encode(text)\n",
    "    doc['question_text_vector'] = model.encode(qt)"
   ]
  },
  {
   "cell_type": "markdown",
   "id": "a40d09a1-6dc9-46d8-87f4-e374fed554e6",
   "metadata": {},
   "source": [
    "## Index the vectorized - embeddings into elastic search"
   ]
  },
  {
   "cell_type": "code",
   "execution_count": 6,
   "id": "50c5f66d-5503-4ec9-8ab5-e2a16792e72f",
   "metadata": {},
   "outputs": [
    {
     "data": {
      "text/plain": [
       "ObjectApiResponse({'acknowledged': True, 'shards_acknowledged': True, 'index': 'course-questions'})"
      ]
     },
     "execution_count": 6,
     "metadata": {},
     "output_type": "execute_result"
    }
   ],
   "source": [
    "es_client = Elasticsearch('http://localhost:9200') \n",
    "\n",
    "index_settings = {\n",
    "    \"settings\": {\n",
    "        \"number_of_shards\": 1,\n",
    "        \"number_of_replicas\": 0\n",
    "    },\n",
    "    \"mappings\": {\n",
    "        \"properties\": {\n",
    "            \"text\": {\"type\": \"text\"},\n",
    "            \"section\": {\"type\": \"text\"},\n",
    "            \"question\": {\"type\": \"text\"},\n",
    "            \"course\": {\"type\": \"keyword\"},\n",
    "            \"id\": {\"type\": \"keyword\"},\n",
    "            \"question_vector\": {\n",
    "                \"type\": \"dense_vector\",\n",
    "                \"dims\": 384,\n",
    "                \"index\": True,\n",
    "                \"similarity\": \"cosine\"\n",
    "            },\n",
    "            \"text_vector\": {\n",
    "                \"type\": \"dense_vector\",\n",
    "                \"dims\": 384,\n",
    "                \"index\": True,\n",
    "                \"similarity\": \"cosine\"\n",
    "            },\n",
    "            \"question_text_vector\": {\n",
    "                \"type\": \"dense_vector\",\n",
    "                \"dims\": 384,\n",
    "                \"index\": True,\n",
    "                \"similarity\": \"cosine\"\n",
    "            },\n",
    "        }\n",
    "    }\n",
    "}\n",
    "\n",
    "index_name = \"course-questions\"\n",
    "\n",
    "es_client.indices.delete(index=index_name, ignore_unavailable=True)\n",
    "es_client.indices.create(index=index_name, body=index_settings)"
   ]
  },
  {
   "cell_type": "code",
   "execution_count": 7,
   "id": "72e244e1-7c00-4f43-8e08-c26a38ef5647",
   "metadata": {},
   "outputs": [
    {
     "data": {
      "application/vnd.jupyter.widget-view+json": {
       "model_id": "eda021d0dda94c778a57647a2fbe4328",
       "version_major": 2,
       "version_minor": 0
      },
      "text/plain": [
       "  0%|          | 0/948 [00:00<?, ?it/s]"
      ]
     },
     "metadata": {},
     "output_type": "display_data"
    }
   ],
   "source": [
    "for doc in tqdm(documents):\n",
    "    es_client.index(index=index_name, document=doc)"
   ]
  },
  {
   "cell_type": "markdown",
   "id": "f23e7e6d-4087-4dd5-9df3-0c5c246db2de",
   "metadata": {},
   "source": [
    "### Retrieval"
   ]
  },
  {
   "cell_type": "code",
   "execution_count": 33,
   "id": "dd40755e-f888-428f-87da-64923f1bd7f7",
   "metadata": {},
   "outputs": [],
   "source": [
    "query = 'I just discovered the course. Can I still join it?'\n",
    "course = \"data-engineering-zoomcamp\""
   ]
  },
  {
   "cell_type": "markdown",
   "id": "58b99cd7-6a5b-4eb4-ac48-85ddd45c1e3c",
   "metadata": {},
   "source": [
    "##### Hybrid Search in LangChain"
   ]
  },
  {
   "cell_type": "code",
   "execution_count": 34,
   "id": "0f231f4b-7c38-44b7-9da6-3c1f56c3e6bf",
   "metadata": {},
   "outputs": [],
   "source": [
    "from typing import Any, Dict, Iterable\n",
    "from langchain_elasticsearch import ElasticsearchRetriever\n",
    "from langchain_huggingface import HuggingFaceEmbeddings\n",
    "from sentence_transformers import SentenceTransformer"
   ]
  },
  {
   "cell_type": "code",
   "execution_count": 35,
   "id": "1d400797-387f-451c-923d-d30aa5ef4f80",
   "metadata": {},
   "outputs": [
    {
     "name": "stderr",
     "output_type": "stream",
     "text": [
      "/anaconda/envs/llm/lib/python3.11/site-packages/transformers/tokenization_utils_base.py:1601: FutureWarning: `clean_up_tokenization_spaces` was not set. It will be set to `True` by default. This behavior will be depracted in transformers v4.45, and will be then set to `False` by default. For more details check this issue: https://github.com/huggingface/transformers/issues/31884\n",
      "  warnings.warn(\n"
     ]
    }
   ],
   "source": [
    "# Load a sentence transformer model (e.g., 'all-MiniLM-L6-v2')\n",
    "model_name = 'sentence-transformers/multi-qa-MiniLM-L6-cos-v1'\n",
    "\n",
    "# Use HuggingFaceEmbeddings to wrap the sentence transformer model\n",
    "embeddings = HuggingFaceEmbeddings(model_name=model_name)"
   ]
  },
  {
   "cell_type": "code",
   "execution_count": 36,
   "id": "65e26107-1839-460c-a404-0761b2094d63",
   "metadata": {},
   "outputs": [],
   "source": [
    "es_url = 'http://localhost:9200'\n",
    "content_field = \"text\" ### column in the data in elastic search db"
   ]
  },
  {
   "cell_type": "code",
   "execution_count": 45,
   "id": "0d5c9bf5-22ff-47f3-bb37-f593ed96aa8f",
   "metadata": {},
   "outputs": [],
   "source": [
    "def hybrid_query(search_query: str) -> Dict:\n",
    "    vector = embeddings.embed_query(search_query)  # same embeddings as for indexing\n",
    "    return {\n",
    "        \"query\": {\n",
    "            \"bool\": {\n",
    "                \"must\": {\n",
    "                    \"multi_match\": {\n",
    "                        \"query\": search_query,\n",
    "                        \"fields\": [\"question\", \"text\", \"section\"],\n",
    "                        \"type\": \"best_fields\",\n",
    "                        \"boost\": 0.5,\n",
    "                    }\n",
    "                },\n",
    "                \"filter\": {\n",
    "                    \"term\": {\n",
    "                        \"course\": course\n",
    "                    }\n",
    "                }\n",
    "            }\n",
    "        },\n",
    "        \"knn\": {\n",
    "            \"field\": \"question_text_vector\",\n",
    "            \"query_vector\": vector,\n",
    "            \"k\": 5,\n",
    "            \"num_candidates\": 10000,\n",
    "            \"boost\": 0.5,\n",
    "            \"filter\": {\n",
    "                \"term\": {\n",
    "                    \"course\": course\n",
    "                }\n",
    "            }\n",
    "        },\n",
    "        \"size\": 5,\n",
    "        # \"rank\": {\"rrf\": {}},\n",
    "    }"
   ]
  },
  {
   "cell_type": "code",
   "execution_count": 46,
   "id": "2012310b-19b8-4093-a992-836644d81253",
   "metadata": {},
   "outputs": [],
   "source": [
    "hybrid_retriever = ElasticsearchRetriever.from_es_params(\n",
    "        index_name=index_name,\n",
    "        body_func=hybrid_query,\n",
    "        content_field=content_field,\n",
    "        url=es_url\n",
    "    )"
   ]
  },
  {
   "cell_type": "code",
   "execution_count": 48,
   "id": "5b09f66e-af43-4eae-ba65-c9e2d63fef49",
   "metadata": {},
   "outputs": [],
   "source": [
    "hybrid_results = hybrid_retriever.invoke(query)"
   ]
  },
  {
   "cell_type": "code",
   "execution_count": 49,
   "id": "ff5eedf3-399c-4da9-b739-ba08f6b375cf",
   "metadata": {},
   "outputs": [
    {
     "name": "stdout",
     "output_type": "stream",
     "text": [
      "Course - Can I still join the course after the start date? data-engineering-zoomcamp 12.559245\n",
      "Course - Can I follow the course after it finishes? data-engineering-zoomcamp 9.39959\n",
      "Course - What can I do before the course starts? data-engineering-zoomcamp 7.306914\n",
      "Course - Can I get support if I take the course in the self-paced mode? data-engineering-zoomcamp 7.1085525\n",
      "Course - When will the course start? data-engineering-zoomcamp 6.7513986\n"
     ]
    }
   ],
   "source": [
    "for result in hybrid_results:\n",
    "    print(result.metadata['_source']['question'], result.metadata['_source']['course'], result.metadata['_score'])"
   ]
  },
  {
   "cell_type": "markdown",
   "id": "6f741e31-ae77-4cb6-92cd-a92fed47e816",
   "metadata": {},
   "source": [
    "### Hybrid Search"
   ]
  },
  {
   "cell_type": "code",
   "execution_count": 50,
   "id": "7abea8eb-8d33-410d-866a-54b8c5468686",
   "metadata": {},
   "outputs": [],
   "source": [
    "df_ground_truth = pd.read_csv('ground-truth-data.csv')"
   ]
  },
  {
   "cell_type": "code",
   "execution_count": 51,
   "id": "b3ff074d-d889-42d0-aa59-590cec0b4e14",
   "metadata": {},
   "outputs": [],
   "source": [
    "ground_truth = df_ground_truth.to_dict(orient='records')"
   ]
  },
  {
   "cell_type": "code",
   "execution_count": 52,
   "id": "bf0f0156-b1b2-477d-b5c2-26c19a150f0e",
   "metadata": {},
   "outputs": [
    {
     "data": {
      "text/plain": [
       "{'question': 'When does the course begin?',\n",
       " 'course': 'data-engineering-zoomcamp',\n",
       " 'document': 'c02e79ef'}"
      ]
     },
     "execution_count": 52,
     "metadata": {},
     "output_type": "execute_result"
    }
   ],
   "source": [
    "ground_truth[0]"
   ]
  },
  {
   "cell_type": "code",
   "execution_count": 53,
   "id": "ec12a234-fb9a-4934-8b00-3e6d64063c6d",
   "metadata": {},
   "outputs": [],
   "source": [
    "def hit_rate(relevance_total):\n",
    "    cnt = 0\n",
    "\n",
    "    for line in relevance_total:\n",
    "        if True in line:\n",
    "            cnt = cnt + 1\n",
    "\n",
    "    return cnt / len(relevance_total)"
   ]
  },
  {
   "cell_type": "code",
   "execution_count": 54,
   "id": "b5a41574-e45b-419a-9e9f-df274fbd934f",
   "metadata": {},
   "outputs": [],
   "source": [
    "def mrr(relevance_total):\n",
    "    total_score = 0.0\n",
    "\n",
    "    for line in relevance_total:\n",
    "        for rank in range(len(line)):\n",
    "            if line[rank] == True:\n",
    "                total_score = total_score + 1 / (rank + 1)\n",
    "\n",
    "    return total_score / len(relevance_total)"
   ]
  },
  {
   "cell_type": "code",
   "execution_count": 55,
   "id": "7a9213aa-0eff-478a-997c-3fad4dd54d9d",
   "metadata": {},
   "outputs": [],
   "source": [
    "def evaluate(ground_truth, search_function):\n",
    "    relevance_total = []\n",
    "\n",
    "    for q in tqdm(ground_truth):\n",
    "        doc_id = q['document']\n",
    "        results = search_function(q)\n",
    "        relevance = [d['id'] == doc_id for d in results]\n",
    "        relevance_total.append(relevance)\n",
    "\n",
    "    return {\n",
    "        'hit_rate': hit_rate(relevance_total),\n",
    "        'mrr': mrr(relevance_total),\n",
    "    }"
   ]
  },
  {
   "cell_type": "code",
   "execution_count": 56,
   "id": "e526c231-8604-4bde-b585-a71482613efc",
   "metadata": {},
   "outputs": [],
   "source": [
    "def elastic_search_hybrid(field, query, course):\n",
    "    def hybrid_query(search_query: str) -> Dict:\n",
    "        vector = embeddings.embed_query(search_query)  # same embeddings as for indexing\n",
    "        return {\n",
    "            \"query\": {\n",
    "                \"bool\": {\n",
    "                    \"must\": {\n",
    "                        \"multi_match\": {\n",
    "                            \"query\": search_query,\n",
    "                            \"fields\": [\"question\", \"text\", \"section\"],\n",
    "                            \"type\": \"best_fields\",\n",
    "                            \"boost\": 0.5,\n",
    "                        }\n",
    "                    },\n",
    "                    \"filter\": {\n",
    "                        \"term\": {\n",
    "                            \"course\": course\n",
    "                        }\n",
    "                    }\n",
    "                }\n",
    "            },\n",
    "            \"knn\": {\n",
    "                \"field\": field,\n",
    "                \"query_vector\": vector,\n",
    "                \"k\": 5,\n",
    "                \"num_candidates\": 10000,\n",
    "                \"boost\": 0.5,\n",
    "                \"filter\": {\n",
    "                    \"term\": {\n",
    "                        \"course\": course\n",
    "                    }\n",
    "                }\n",
    "            },\n",
    "            \"size\": 5,\n",
    "            \"_source\": [\"text\", \"section\", \"question\", \"course\", \"id\"],\n",
    "            # \"rank\": {\"rrf\": {}},\n",
    "        }\n",
    "    \n",
    "    \n",
    "    hybrid_retriever = ElasticsearchRetriever.from_es_params(\n",
    "        index_name=index_name,\n",
    "        body_func=hybrid_query,\n",
    "        content_field='text',\n",
    "        url=es_url,\n",
    "    )\n",
    "\n",
    "    hybrid_results = hybrid_retriever.invoke(query)\n",
    "    \n",
    "    result_docs = []\n",
    "    \n",
    "    for hit in hybrid_results:\n",
    "        result_docs.append(hit.metadata['_source'])\n",
    "\n",
    "    return result_docs"
   ]
  },
  {
   "cell_type": "code",
   "execution_count": 57,
   "id": "53a90fff-be15-465e-aff8-00c3e88cd83c",
   "metadata": {},
   "outputs": [],
   "source": [
    "def question_text_hybrid(q):\n",
    "    question = q['question']\n",
    "    course = q['course']\n",
    "\n",
    "    return elastic_search_hybrid('question_text_vector', question, course)"
   ]
  },
  {
   "cell_type": "code",
   "execution_count": 58,
   "id": "b3d73015-13b5-479b-8aa3-00053a8ed10f",
   "metadata": {},
   "outputs": [
    {
     "data": {
      "application/vnd.jupyter.widget-view+json": {
       "model_id": "70f2250d73134998baa6d9cfdc1bcfc9",
       "version_major": 2,
       "version_minor": 0
      },
      "text/plain": [
       "  0%|          | 0/4627 [00:00<?, ?it/s]"
      ]
     },
     "metadata": {},
     "output_type": "display_data"
    },
    {
     "data": {
      "text/plain": [
       "{'hit_rate': 0.9250054030689432, 'mrr': 0.8506231539514445}"
      ]
     },
     "execution_count": 58,
     "metadata": {},
     "output_type": "execute_result"
    }
   ],
   "source": [
    "evaluate(ground_truth, question_text_hybrid)"
   ]
  },
  {
   "cell_type": "code",
   "execution_count": null,
   "id": "7580b4ae-2d61-411f-8a6b-99d81087fdbd",
   "metadata": {},
   "outputs": [],
   "source": []
  }
 ],
 "metadata": {
  "kernelspec": {
   "display_name": "Python 3 (ipykernel)",
   "language": "python",
   "name": "python3"
  },
  "language_info": {
   "codemirror_mode": {
    "name": "ipython",
    "version": 3
   },
   "file_extension": ".py",
   "mimetype": "text/x-python",
   "name": "python",
   "nbconvert_exporter": "python",
   "pygments_lexer": "ipython3",
   "version": "3.11.0"
  }
 },
 "nbformat": 4,
 "nbformat_minor": 5
}
